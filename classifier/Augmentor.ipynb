{
 "cells": [
  {
   "cell_type": "code",
   "execution_count": 7,
   "metadata": {
    "scrolled": true
   },
   "outputs": [
    {
     "name": "stdout",
     "output_type": "stream",
     "text": [
      "Initialised with 20001 image(s) found.\n",
      "Output directory set to 8-bit_aug/training_data/../output."
     ]
    }
   ],
   "source": [
    "import Augmentor\n",
    "p =Augmentor.Pipeline(\"8-bit_aug/training_data\", output_directory = '../output')"
   ]
  },
  {
   "cell_type": "code",
   "execution_count": 8,
   "metadata": {},
   "outputs": [
    {
     "name": "stderr",
     "output_type": "stream",
     "text": [
      "Processing <PIL.Image.Image image mode=L size=80x80 at 0x7F561C73DBD0>: 100%|██████████| 10000/10000 [01:37<00:00, 102.38 Samples/s]                  \n"
     ]
    }
   ],
   "source": [
    "p.rotate(probability=0.7, max_left_rotation=15, max_right_rotation=15)\n",
    "p.zoom(probability=0.2, min_factor=1.1, max_factor=1.5)\n",
    "p.skew_top_bottom(probability=0.2, magnitude=1)\n",
    "p.skew_left_right(probability=0.2, magnitude=1)\n",
    "p.shear(probability=0.3, max_shear_left=10, max_shear_right=10)\n",
    "p.rotate_without_crop(probability=0.3, max_left_rotation=30, max_right_rotation=30, expand=False)\n",
    "p.rotate90(probability=0.2)\n",
    "p.rotate180(probability=0.2)\n",
    "p.random_distortion(probability=0.3, grid_width=5, grid_height=5, magnitude=2)\n",
    "p.random_brightness(probability=0.5, min_factor=0.8, max_factor=1.2)\n",
    "\n",
    "p.sample(10000)\n"
   ]
  },
  {
   "cell_type": "code",
   "execution_count": null,
   "metadata": {},
   "outputs": [],
   "source": []
  },
  {
   "cell_type": "code",
   "execution_count": 7,
   "metadata": {},
   "outputs": [
    {
     "name": "stdout",
     "output_type": "stream",
     "text": [
      "/opt/anaconda/envs/deeplearn/bin/python: No module named sudo\r\n"
     ]
    }
   ],
   "source": [
    "import sys\n",
    "!{sys.executable} -m pip install torchvision"
   ]
  },
  {
   "cell_type": "code",
   "execution_count": null,
   "metadata": {},
   "outputs": [],
   "source": []
  }
 ],
 "metadata": {
  "kernelspec": {
   "display_name": "Python 2",
   "language": "python",
   "name": "python2"
  },
  "language_info": {
   "codemirror_mode": {
    "name": "ipython",
    "version": 2
   },
   "file_extension": ".py",
   "mimetype": "text/x-python",
   "name": "python",
   "nbconvert_exporter": "python",
   "pygments_lexer": "ipython2",
   "version": "2.7.15"
  }
 },
 "nbformat": 4,
 "nbformat_minor": 2
}
