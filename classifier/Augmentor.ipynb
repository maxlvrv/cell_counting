{
 "cells": [
  {
   "cell_type": "code",
   "execution_count": 20,
   "metadata": {},
   "outputs": [
    {
     "name": "stdout",
     "output_type": "stream",
     "text": [
      "Initialised with 6505 image(s) found.\n",
      "Output directory set to 8-bit/training_data/cell\\output."
     ]
    }
   ],
   "source": [
    "import Augmentor\n",
    "#p = Augmentor.Pipeline(\"8-bit/training_data/cell\")\n",
    "p2 =Augmentor.Pipeline(\"8-bit/training_data/cell\")"
   ]
  },
  {
   "cell_type": "code",
   "execution_count": 21,
   "metadata": {},
   "outputs": [
    {
     "name": "stderr",
     "output_type": "stream",
     "text": [
      "Processing <PIL.Image.Image image mode=L size=80x80 at 0x2D4005B79B0>: 100%|█| 2000/2000 [00:16<00:00, 124.81 Samples/s]                  \n"
     ]
    }
   ],
   "source": [
    "p2.rotate(probability=0.7, max_left_rotation=15, max_right_rotation=15)\n",
    "# p2.rotate(probability=0.7, max_left_rotation=15, max_right_rotation=15)\n",
    "\n",
    "p2.zoom(probability=0.2, min_factor=1.1, max_factor=1.5)\n",
    "p2.skew_top_bottom(probability=0.2, magnitude=1)\n",
    "p2.skew_left_right(probability=0.2, magnitude=1)\n",
    "p2.shear(probability=0.3, max_shear_left=10, max_shear_right=10)\n",
    "p2.rotate_without_crop(probability=0.3, max_left_rotation=30, max_right_rotation=30, expand=False)\n",
    "p2.rotate90(probability=0.2)\n",
    "p2.rotate180(probability=0.2)\n",
    "p2.random_distortion(probability=0.3, grid_width=5, grid_height=5, magnitude=2)\n",
    "p2.random_brightness(probability=0.5, min_factor=0.8, max_factor=1.2)\n",
    "\n",
    "p2.sample(2000)"
   ]
  },
  {
   "cell_type": "code",
   "execution_count": null,
   "metadata": {},
   "outputs": [],
   "source": []
  },
  {
   "cell_type": "code",
   "execution_count": 7,
   "metadata": {},
   "outputs": [
    {
     "name": "stdout",
     "output_type": "stream",
     "text": [
      "Requirement already satisfied: Augmentor in c:\\users\\user\\anaconda3\\lib\\site-packages (0.2.3)\n",
      "Requirement already satisfied: Pillow>=4.0.0 in c:\\users\\user\\anaconda3\\lib\\site-packages (from Augmentor) (5.3.0)\n",
      "Requirement already satisfied: tqdm>=4.9.0 in c:\\users\\user\\anaconda3\\lib\\site-packages (from Augmentor) (4.26.0)\n",
      "Requirement already satisfied: numpy>=1.11.0 in c:\\users\\user\\anaconda3\\lib\\site-packages (from Augmentor) (1.15.2)\n",
      "Requirement already satisfied: future>=0.16.0 in c:\\users\\user\\anaconda3\\lib\\site-packages (from Augmentor) (0.17.1)\n"
     ]
    },
    {
     "name": "stderr",
     "output_type": "stream",
     "text": [
      "You are using pip version 10.0.1, however version 19.0.1 is available.\n",
      "You should consider upgrading via the 'python -m pip install --upgrade pip' command.\n"
     ]
    }
   ],
   "source": [
    "import sys\n",
    "!{sys.executable} -m pip install Augmentor"
   ]
  },
  {
   "cell_type": "code",
   "execution_count": null,
   "metadata": {},
   "outputs": [],
   "source": []
  }
 ],
 "metadata": {
  "kernelspec": {
   "display_name": "Python 3",
   "language": "python",
   "name": "python3"
  },
  "language_info": {
   "codemirror_mode": {
    "name": "ipython",
    "version": 3
   },
   "file_extension": ".py",
   "mimetype": "text/x-python",
   "name": "python",
   "nbconvert_exporter": "python",
   "pygments_lexer": "ipython3",
   "version": "3.7.0"
  }
 },
 "nbformat": 4,
 "nbformat_minor": 2
}
