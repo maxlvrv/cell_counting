{
 "cells": [
  {
   "cell_type": "code",
   "execution_count": 20,
   "metadata": {},
   "outputs": [
    {
     "name": "stdout",
     "output_type": "stream",
     "text": [
      "Initialised with 6505 image(s) found.\n",
      "Output directory set to 8-bit/training_data/cell\\output."
     ]
    }
   ],
   "source": [
    "import Augmentor\n",
    "#p = Augmentor.Pipeline(\"8-bit/training_data/cell\")\n",
    "p2 =Augmentor.Pipeline(\"8-bit/training_data/cell\")"
   ]
  },
  {
   "cell_type": "code",
   "execution_count": 21,
   "metadata": {},
   "outputs": [
    {
     "name": "stderr",
     "output_type": "stream",
     "text": [
      "Processing <PIL.Image.Image image mode=L size=80x80 at 0x2D4005B79B0>: 100%|█| 2000/2000 [00:16<00:00, 124.81 Samples/s]                  \n"
     ]
    }
   ],
   "source": [
    "p2.rotate(probability=0.7, max_left_rotation=15, max_right_rotation=15)\n",
    "# p2.rotate(probability=0.7, max_left_rotation=15, max_right_rotation=15)\n",
    "\n",
    "p2.zoom(probability=0.2, min_factor=1.1, max_factor=1.5)\n",
    "p2.skew_top_bottom(probability=0.2, magnitude=1)\n",
    "p2.skew_left_right(probability=0.2, magnitude=1)\n",
    "p2.shear(probability=0.3, max_shear_left=10, max_shear_right=10)\n",
    "p2.rotate_without_crop(probability=0.3, max_left_rotation=30, max_right_rotation=30, expand=False)\n",
    "p2.rotate90(probability=0.2)\n",
    "p2.rotate180(probability=0.2)\n",
    "p2.random_distortion(probability=0.3, grid_width=5, grid_height=5, magnitude=2)\n",
    "p2.random_brightness(probability=0.5, min_factor=0.8, max_factor=1.2)\n",
    "\n",
    "p2.sample(2000)"
   ]
  },
  {
   "cell_type": "code",
   "execution_count": null,
   "metadata": {},
   "outputs": [],
   "source": []
  },
  {
   "cell_type": "code",
   "execution_count": 1,
   "metadata": {},
   "outputs": [
    {
     "name": "stdout",
     "output_type": "stream",
     "text": [
      "Collecting Augmentor\n",
      "  Using cached https://files.pythonhosted.org/packages/4d/f4/b0eaa9d3b4120a5450ac92d4417907ca60fad5749c1f50ed95f720792350/Augmentor-0.2.3-py2.py3-none-any.whl\n",
      "Collecting future>=0.16.0 (from Augmentor)\n",
      "Requirement already satisfied: numpy>=1.11.0 in /opt/anaconda/envs/deeplearn/lib/python2.7/site-packages (from Augmentor) (1.15.4)\n",
      "Requirement already satisfied: Pillow>=4.0.0 in /opt/anaconda/envs/deeplearn/lib/python2.7/site-packages (from Augmentor) (5.1.0)\n",
      "Requirement already satisfied: futures>=3.2.0; python_version == \"2.7\" in /opt/anaconda/envs/deeplearn/lib/python2.7/site-packages (from Augmentor) (3.2.0)\n",
      "Requirement already satisfied: tqdm>=4.9.0 in /opt/anaconda/envs/deeplearn/lib/python2.7/site-packages (from Augmentor) (4.23.3)\n",
      "Installing collected packages: future, Augmentor\n",
      "\u001b[31mCould not install packages due to an EnvironmentError: [Errno 13] Permission denied: '/opt/anaconda/envs/deeplearn/lib/python2.7/site-packages/_markupbase'\n",
      "Consider using the `--user` option or check the permissions.\n",
      "\u001b[0m\n",
      "\u001b[33mYou are using pip version 10.0.1, however version 19.0.1 is available.\n",
      "You should consider upgrading via the 'pip install --upgrade pip' command.\u001b[0m\n"
     ]
    }
   ],
   "source": [
    "import sys\n",
    "!{sys.executable} -m pip install Augmentor"
   ]
  },
  {
   "cell_type": "code",
   "execution_count": null,
   "metadata": {},
   "outputs": [],
   "source": []
  }
 ],
 "metadata": {
  "kernelspec": {
   "display_name": "Python 2",
   "language": "python",
   "name": "python2"
  },
  "language_info": {
   "codemirror_mode": {
    "name": "ipython",
    "version": 2
   },
   "file_extension": ".py",
   "mimetype": "text/x-python",
   "name": "python",
   "nbconvert_exporter": "python",
   "pygments_lexer": "ipython2",
   "version": "2.7.15"
  }
 },
 "nbformat": 4,
 "nbformat_minor": 2
}
