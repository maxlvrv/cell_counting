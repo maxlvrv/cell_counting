{
 "cells": [
  {
   "cell_type": "code",
   "execution_count": 1,
   "metadata": {},
   "outputs": [
    {
     "name": "stdout",
     "output_type": "stream",
     "text": [
      "Warning! Files detected in test data directory!\n",
      "Moving files back to training data directory...\n",
      "Done!\n",
      "\n",
      "Splitting all training data into 70% training and 30% test data directories...\n"
     ]
    }
   ],
   "source": [
    "import os\n",
    "import random\n",
    "import shutil\n",
    "\n",
    "#=============================================================================================\n",
    "# Precheck on directory structure\n",
    "#=============================================================================================\n",
    "\n",
    "if os.listdir('8-bit_lowfat/test_data/cell/'):\n",
    "    print 'Warning! Files detected in test data directory!'\n",
    "    print 'Moving files back to training data directory...'\n",
    "\n",
    "    for f in os.listdir('8-bit_lowfat/test_data/cell/'):\n",
    "        shutil.move('8-bit_lowfat/test_data/cell/'+f,'8-bit_lowfat/training_data/cell/'+f)\n",
    "\n",
    "    for f in os.listdir('8-bit_lowfat/test_data/nocell/'):\n",
    "        shutil.move('8-bit_lowfat/test_data/nocell/'+f,'8-bit_lowfat/training_data/nocell/'+f)\n",
    "        \n",
    "    print 'Done!\\n'\n",
    "    \n",
    "print \"Splitting all training data into 70% training and 30% test data directories...\"\n",
    "\n",
    "cell_data = os.listdir('8-bit_lowfat/training_data/cell/')\n",
    "nocell_data = os.listdir('8-bit_lowfat/training_data/nocell/')\n",
    "\n",
    "validation_cell_data = random.sample(cell_data, int(0.3*len(cell_data)))\n",
    "validation_nocell_data = random.sample(nocell_data, int(0.3*len(nocell_data)))\n",
    "\n",
    "for f in validation_cell_data:\n",
    "    shutil.move('8-bit_lowfat/training_data/cell/'+f,'8-bit_lowfat/test_data/cell/'+f)\n",
    "\n",
    "for f in validation_nocell_data:\n",
    "    shutil.move('8-bit_lowfat/training_data/nocell/'+f,'8-bit_lowfat/test_data/nocell/'+f)    "
   ]
  },
  {
   "cell_type": "code",
   "execution_count": 2,
   "metadata": {},
   "outputs": [
    {
     "name": "stderr",
     "output_type": "stream",
     "text": [
      "/opt/anaconda/envs/deeplearn/lib/python2.7/site-packages/h5py/__init__.py:36: FutureWarning: Conversion of the second argument of issubdtype from `float` to `np.floating` is deprecated. In future, it will be treated as `np.float64 == np.dtype(float).type`.\n",
      "  from ._conv import register_converters as _register_converters\n",
      "Using TensorFlow backend.\n"
     ]
    },
    {
     "name": "stdout",
     "output_type": "stream",
     "text": [
      "Found 245 images belonging to 2 classes.\n",
      "Found 105 images belonging to 2 classes.\n",
      "Done!\n",
      "\n"
     ]
    },
    {
     "ename": "IndentationError",
     "evalue": "unexpected indent (<unknown>, line 29)",
     "output_type": "error",
     "traceback": [
      "\u001b[0;36m  File \u001b[0;32m\"<unknown>\"\u001b[0;36m, line \u001b[0;32m29\u001b[0m\n\u001b[0;31m    cell_data = os.listdir('8-bit_lowfat/training_data/cell/')\u001b[0m\n\u001b[0m    ^\u001b[0m\n\u001b[0;31mIndentationError\u001b[0m\u001b[0;31m:\u001b[0m unexpected indent\n"
     ]
    }
   ],
   "source": [
    "from keras.preprocessing.image import ImageDataGenerator\n",
    "from keras.models import Sequential\n",
    "from keras.layers import Conv2D, MaxPooling2D\n",
    "from keras.layers import Activation, Dropout, Flatten, Dense\n",
    "from keras.callbacks import ModelCheckpoint\n",
    "from keras import backend as K\n",
    "from hyperas import optim\n",
    "from hyperopt import Trials, STATUS_OK, tpe\n",
    "from hyperas.distributions import choice, uniform\n",
    "import h5py\n",
    "from keras.optimizers import RMSprop\n",
    "\n",
    "def model(training_data, test_data):\n",
    "    img_width, img_height = 80, 80\n",
    "    input_shape = (img_width, img_height, 1)\n",
    "#     nb_train_samples = 2000\n",
    "#     nb_validation_samples = 800\n",
    "\n",
    "    epochs = 2\n",
    "    batch_size = 32\n",
    "    model = Sequential()\n",
    "    model.add(Conv2D(32, (3, 3), input_shape=input_shape))\n",
    "    model.add(Activation('relu'))\n",
    "    model.add(MaxPooling2D(pool_size=(2, 2)))\n",
    "\n",
    "    model.add(Conv2D(32, (3, 3)))\n",
    "    model.add(Activation('relu'))\n",
    "    model.add(MaxPooling2D(pool_size=(2, 2)))\n",
    "\n",
    "    model.add(Conv2D({{choice([32,64,128])}}, (3, 3)))\n",
    "    model.add(Activation('relu'))\n",
    "    model.add(MaxPooling2D(pool_size=(2, 2)))\n",
    "\n",
    "    model.add(Flatten())\n",
    "    model.add(Dense(64))\n",
    "    model.add(Activation('relu'))\n",
    "    model.add(Dropout(0.5))\n",
    "    model.add(Dense(units = 1, activation = 'sigmoid')) #softmax\n",
    "    model.compile(optimizer={{choice(['rmsprop', 'adam', 'sgd'])}}, loss = 'binary_crossentropy', metrics = ['accuracy'])\n",
    "\n",
    "    model.summary()\n",
    "    \n",
    "    # Find number of epoch and validation steps\n",
    "    steps_epoch = len([filename for filename in os.listdir('8-bit/training_data/cell') if filename.endswith(\".tif\")]) + len([filename for filename in os.listdir('8-bit/training_data/nocell') if filename.endswith(\".tif\")])\n",
    "    steps_valid = len([filename for filename in os.listdir('8-bit/test_data/cell') if filename.endswith(\".tif\")]) + len([filename for filename in os.listdir('8-bit/test_data/nocell') if filename.endswith(\".tif\")])\n",
    "    \n",
    "    history = model.fit_generator(\n",
    "        training_data,\n",
    "        steps_per_epoch=steps_epoch,\n",
    "        epochs=epochs,\n",
    "        validation_data=test_data,\n",
    "        validation_steps=steps_valid)\n",
    "\n",
    "    score, acc = model.evaluate_generator(generator=validation_generator, \n",
    "                                      steps=nb_validation_samples // batch_size)\n",
    "\n",
    "    return {'loss': -acc, 'status': STATUS_OK, 'model': model}\n",
    "\n",
    "def data():\n",
    "\n",
    "    # training data\n",
    "    train_datagen = ImageDataGenerator(rotation_range=180, rescale = 1./255, shear_range = 0.15, zoom_range = 0.15, width_shift_range=0.15, height_shift_range=0.15, horizontal_flip = True, vertical_flip = True)\n",
    "    training_data = train_datagen.flow_from_directory('8-bit_lowfat/training_data', target_size = (80, 80), batch_size = 32, class_mode = 'binary', color_mode = 'grayscale')\n",
    "    #training_data = train_datagen.flow_from_directory('8-bit_lowfat/training_data', target_size = (80, 80), batch_size = 32, class_mode = 'binary', color_mode = 'grayscale', save_to_dir='preview', save_prefix='cell', save_format='jpeg')\n",
    "    # validation data\n",
    "    test_datagen = ImageDataGenerator(rescale = 1./255)\n",
    "    test_data = test_datagen.flow_from_directory('8-bit_lowfat/test_data', target_size = (80, 80), batch_size = 32, class_mode = 'binary', color_mode = 'grayscale')\n",
    "\n",
    "    print \"Done!\\n\"\n",
    "\n",
    "    return training_data, test_data\n",
    "\n",
    "if __name__ == '__main__':\n",
    "\n",
    "    train_generator, validation_generator = data()\n",
    "\n",
    "    best_run, best_model = optim.minimize(model=model,\n",
    "                                          data=data,\n",
    "                                          algo=tpe.suggest,\n",
    "                                          max_evals=5,\n",
    "                                          trials=Trials(),\n",
    "                                          notebook_name='max_cc_hyperas_v3')\n",
    "\n",
    "\n",
    "    print(\"Evalutation of best performing model:\")\n",
    "    print(best_model.evaluate_generator(validation_generator))\n",
    "    print(\"Best performing model chosen hyper-parameters:\")\n",
    "    print(best_run)"
   ]
  },
  {
   "cell_type": "code",
   "execution_count": null,
   "metadata": {},
   "outputs": [],
   "source": []
  }
 ],
 "metadata": {
  "kernelspec": {
   "display_name": "Python 2",
   "language": "python",
   "name": "python2"
  },
  "language_info": {
   "codemirror_mode": {
    "name": "ipython",
    "version": 2
   },
   "file_extension": ".py",
   "mimetype": "text/x-python",
   "name": "python",
   "nbconvert_exporter": "python",
   "pygments_lexer": "ipython2",
   "version": "2.7.15"
  }
 },
 "nbformat": 4,
 "nbformat_minor": 2
}
